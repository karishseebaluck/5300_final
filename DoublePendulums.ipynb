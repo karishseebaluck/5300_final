{
 "cells": [
  {
   "cell_type": "markdown",
   "id": "e4e9ca29",
   "metadata": {},
   "source": [
    "# Solving the Double Pendulum Problem Using Euler-Lagrange\n",
    "\n",
    "Defines a DoublePendulum class that constructs pendulum plots from solving the Euler-Lagrange equations.\n",
    "\n",
    "By Karish Seebaluck (seebaluck.1@osu.edu)"
   ]
  },
  {
   "cell_type": "code",
   "execution_count": 1,
   "id": "48c2f790",
   "metadata": {},
   "outputs": [],
   "source": [
    "%matplotlib inline\n",
    "\n",
    "import numpy as np\n",
    "from scipy.integrate import solve_ivp\n",
    "\n",
    "import matplotlib.pyplot as plt\n",
    "from IPython.display import Image"
   ]
  },
  {
   "cell_type": "markdown",
   "id": "b1823d04",
   "metadata": {},
   "source": [
    "From [Wolfram Research](https://scienceworld.wolfram.com/physics/DoublePendulum.html) we get the picture below. We will also adopt their conventions with $\\hat{x}$ pointing to the right and $\\hat{y}$ pointing up."
   ]
  },
  {
   "cell_type": "code",
   "execution_count": 2,
   "id": "4517aa5e",
   "metadata": {},
   "outputs": [
    {
     "data": {
      "text/html": [
       "<img src=\"https://scienceworld.wolfram.com/physics/dimg270.gif\"/>"
      ],
      "text/plain": [
       "<IPython.core.display.Image object>"
      ]
     },
     "execution_count": 2,
     "metadata": {},
     "output_type": "execute_result"
    }
   ],
   "source": [
    "Image(url='https://scienceworld.wolfram.com/physics/dimg270.gif')"
   ]
  },
  {
   "cell_type": "markdown",
   "id": "3d2d7063",
   "metadata": {},
   "source": [
    "Our two generalized coordinates will be $\\theta$<sub>1</sub> and $\\theta$<sub>2</sub> and they can be seen in our image above. The positions and velocities for our pendulum will be given by,<p>\n",
    "    \n",
    "<center>$x_{1} = l_{1}sin(\\theta_{1})\\qquad\\dot{x_{1}} = l_{1}\\dot{\\theta_{1}}cos(\\theta_{1})$</center><p>\n",
    "<center>$y_{1} = -l_{1}cos(\\theta_{1})\\qquad\\dot{y_{1}} = l_{1}\\dot{\\theta_{1}}sin(\\theta_{1})$</center><p>\n",
    "<center>$x_{2} = l_{1}sin(\\theta_{1}) + l_{2}sin(\\theta_{2})\\qquad\\dot{x_{2}} = l_{1}\\dot{\\theta_{1}}cos(\\theta_{1}) + l_{2}\\dot{\\theta_{2}}cos(\\theta_{2})$</center><p>\n",
    "<center>$y_{2} = -l_{1}cos(\\theta_{1}) - l_{2}cos(\\theta_{2})\\qquad\\dot{y_{2}} = l_{1}\\dot{\\theta_{1}}sin(\\theta_{1}) + l_{2}\\dot{\\theta_{2}}sin(\\theta_{2})$</center><p>\n",
    "    \n",
    "The potential, $U$, and kinetic, $T$, energies of our system will be given by,<p>\n",
    "<center>$U = m_{1}gy_{1} + m_{2}gy_{2} = -(m_{1} + m_{2})gl_{1}cos(\\theta_{1}) - m_{2}gl_{2}cos(\\theta_{2})$<center><br>\n",
    "<center>$T = \\frac{1}{2}m_{1}v_{1}^{2} + \\frac{1}{2}m_{2}v_{2}^{2}$<center><br>\n",
    "<center>$ = \\frac{1}{2}m_{1}l_{1}^{2}\\dot{\\theta_{1}^{2}} + \\frac{1}{2}m_{2}[l_{1}^{2}\\dot{\\theta_{1}^{2}} + l_{2}^{2}\\dot{\\theta_{2}^{2}} + 2l_{1}l_{2}\\dot{\\theta_{1}}\\dot{\\theta_{2}}cos(\\theta_{1} - \\theta_{2})]$<center><p>\n",
    "\n",
    "Then the Lagrangian, $L$, for our system is going to be given by,<br>\n",
    "<center>$ L = T - U$<center><br>\n",
    "<center>$ = \\frac{1}{2}(m_{1} + m_{2})l_{1}^{2}\\dot{\\theta_{1}^{2}} + \\frac{1}{2}m_{2}l_{2}^{2}\\dot{\\theta_{2}^{2}} + m_{2}l_{1}l_{2}\\dot{\\theta_{1}}\\dot{\\theta_{2}}cos(\\theta_{1}-\\theta_{2}) + (m_{1} + m_{2})gl_{1}cos(\\theta_{1}) + m_{2}gl_{2}cos(\\theta_{2})$<p>\n",
    "\n",
    "The Euler-Lagrange equations are given by,<p>\n",
    "<center>$\\large \\frac{d}{dt}(\\frac{\\partial L}{\\partial \\dot{q_{i}}}) - \\frac{\\partial L}{\\partial \\dot{q_{i}}} = 0 $<p>\n",
    "    \n",
    "After computing the derivates, we get the following differential equations,<p>\n",
    "<center>$(m_{1}+m_{2})l_{1}\\ddot{\\theta_{1}} + m_{2}l_{2}\\ddot{\\theta_{2}}cos(\\theta_{1} - \\theta_{2}) + m_{2}l_{2}\\dot{\\theta_{2}^{2}}sin(\\theta_{1} - \\theta_{2}) + g(m_{1} + m_{2})sin(\\theta_{1}) = 0$<p>\n",
    "<center>$m_{2}l_{2}\\ddot{\\theta_{2}} + m_{2}l_{1}\\ddot{\\theta_{1}}cos(\\theta_{1} - \\theta_{2}) - m_{2}l_{1}\\dot{\\theta_{1}^{2}}sin(\\theta_{1} - \\theta_{2}) + m_{2}gsin(\\theta_{2}) = 0$<p>\n",
    "    \n",
    "Scipy's solve_ivp function requires a system of first-order differential equations. Let $z_{1} = \\dot{\\theta_{1}}$ and $z_{2} = \\dot{\\theta_{2}}$, then $\\dot{z_{1}} = \\ddot{\\theta_{1}}$ and $\\dot{z_{2}} = \\ddot{\\theta_{2}}$. Rearranging our differential equations above, we get the following,<p>\n",
    "<center> $\\dot{z_{1}} = \\large\\frac{m_{2}gsin(\\theta_{2})cos(\\theta_{1} - \\theta_{2}) - m_{2}sin(\\theta_{1} - \\theta_{2})[l_{1}z_{1}^{2}cos(\\theta_{1} - \\theta_{2}) + l_{2}z_{2}^{2}] - (m_{1} + m_{2})gsin(\\theta_{1})}{l_{1}[m_{1} + m_{2}sin^{2}(\\theta_{1} - \\theta_{2})]}$<p>\n",
    "<center> $\\dot{z_{2}} = \\large\\frac{(m_{1} + m_{2})[l_{1}z_{1}^{2}sin(\\theta_{1} - \\theta_{2}) - gsin(\\theta_{2}) + gsin(\\theta_{1})cos(\\theta_{1} - \\theta_{2})] + m_{2}l_{2}z_{2}^{2}sin(\\theta_{1} - \\theta_{2})cos(\\theta_{1} - \\theta_{2})}{l_{2}[m_{1} + m_{2}sin^{2}(\\theta_{1} - \\theta_{2})]}$\n"
   ]
  },
  {
   "cell_type": "code",
   "execution_count": 3,
   "id": "537d0cea",
   "metadata": {},
   "outputs": [],
   "source": [
    "class DoublePendulum():\n",
    "    \"\"\"\n",
    "    This class takes in multiple parameters and the Lagrange equations to solve a simple double pendulum problem.\n",
    "    \n",
    "    Parameters\n",
    "    ----------\n",
    "    l1 : float\n",
    "        This is the length of the top pendulum\n",
    "    m1 : float\n",
    "        The mass of the top pendulum\n",
    "    l2 : float\n",
    "        The length of the bottom pendulum\n",
    "    m2 : float\n",
    "        The mass of the bottom pendulum\n",
    "    g  : float\n",
    "        gravitation acceleration in m/s^2\n",
    "    \n",
    "    Methods\n",
    "    -------\n",
    "    dy_dt(t,y)\n",
    "        Returns the right side of the differential equation in multiple component vector y,\n",
    "        given time t and the corresponding value of y.\n",
    "    \"\"\"\n",
    "    \n",
    "    def __init__(self, L1=1., L2=1., m1=1., m2=1., g=1.):\n",
    "        self.L1 = L1\n",
    "        self.L2 = L2\n",
    "        self.m1 = m1\n",
    "        self.m2 = m2\n",
    "        self.g = g\n",
    "        \n",
    "    def dy_dt(self, t, y):\n",
    "        \"\"\"\n",
    "        Parameters\n",
    "        ----------\n",
    "        t : float\n",
    "            time\n",
    "        y : list with floats\n",
    "            A 4-component vector with y[0] = phi1(t), y[1] = dphi1(t)/dt,\n",
    "            y[2] = phi2(t), y[3] = dphi2(t)/dt\n",
    "        \n",
    "        Returns\n",
    "        -------\n",
    "        This function returns the right-hand side of the diff eq,\n",
    "        [dphi1/dt, dphi1^2/dt^2, dphi2/dt, dphi2^2/dt^2]\n",
    "        \n",
    "        \"\"\"\n",
    "        finalvec = []\n",
    "        finalvec.append(y[0])\n",
    "        finalvec.append((self.m2 * self.g * np.sin(y[0]) * np.cos(y[0] - y[2]) - self.m2 * np.sin(y[0] - y[2]) * (self.L1 * y[1]**2 * \\\n",
    "                        np.cos(y[0] - y[2]) + self.L2 * y[3]**2) - (self.m1 + self.m2) * self.g * np.sin(y[0])) / \\\n",
    "                        (self.L1 * (self.m1 + self.m2 * np.sin(y[0] - y[2])**2)))\n",
    "        finalvec.append(y[2])\n",
    "        finalvec.append(((self.m1 + self.m2) * (self.L1 * y[1]**2 * np.sin(y[0] - y[2]) - self.g * np.sin(y[2]) + self.g \\\n",
    "                        * np.sin(y[0]) * np.cos(y[0] - y[2])) + self.m2 * self.L2 * y[3]**2 * np.sin(y[0] - y[2]) * \\\n",
    "                         np.cos(y[0] - y[2])) / (self.L2 * (self.m1 + self.m2 * np.sin(y[0] - y[2])**2)))\n",
    "        return finalvec[0], finalvec[1], finalvec[2], finalvec[3]\n",
    "    \n",
    "    \n",
    "    def solve_ode(self, t_pts, phi1_0, phi1_dot_0, phi2_0, phi2_dot_0,\n",
    "                  abserr=1.0e-10, relerr=1.0e-10):\n",
    "        \"\"\"\n",
    "        Solve the ODE given initial conditions.\n",
    "        Specify smaller abserr and relerr to get more precision.\n",
    "        \"\"\"\n",
    "        y = [phi1_0, phi1_dot_0, phi2_0, phi2_dot_0]\n",
    "        solution = solve_ivp(self.dy_dt, (t_pts[0], t_pts[-1]), \n",
    "                             y, t_eval=t_pts, atol=abserr, rtol=relerr)\n",
    "        phi1, phi1_dot, phi2, phi2_dot = solution.y\n",
    "        return phi1, phi1_dot, phi2, phi2_dot"
   ]
  },
  {
   "cell_type": "code",
   "execution_count": 4,
   "id": "8c396818",
   "metadata": {},
   "outputs": [
    {
     "ename": "KeyboardInterrupt",
     "evalue": "",
     "output_type": "error",
     "traceback": [
      "\u001b[1;31m---------------------------------------------------------------------------\u001b[0m",
      "\u001b[1;31mKeyboardInterrupt\u001b[0m                         Traceback (most recent call last)",
      "\u001b[1;32m~\\AppData\\Local\\Temp\\ipykernel_12612\\3233768331.py\u001b[0m in \u001b[0;36m<module>\u001b[1;34m\u001b[0m\n\u001b[0;32m     13\u001b[0m \u001b[1;33m\u001b[0m\u001b[0m\n\u001b[0;32m     14\u001b[0m \u001b[1;31m# Solve for the motion of our pendulums\u001b[0m\u001b[1;33m\u001b[0m\u001b[1;33m\u001b[0m\u001b[0m\n\u001b[1;32m---> 15\u001b[1;33m \u001b[0mphi1\u001b[0m\u001b[1;33m,\u001b[0m \u001b[0mphi1_dot\u001b[0m\u001b[1;33m,\u001b[0m \u001b[0mphi2\u001b[0m\u001b[1;33m,\u001b[0m \u001b[0mphi2_dot\u001b[0m \u001b[1;33m=\u001b[0m \u001b[0mp1\u001b[0m\u001b[1;33m.\u001b[0m\u001b[0msolve_ode\u001b[0m\u001b[1;33m(\u001b[0m\u001b[0mt_pts\u001b[0m\u001b[1;33m,\u001b[0m\u001b[0mphi1_0\u001b[0m\u001b[1;33m,\u001b[0m \u001b[0mphi1_dot_0\u001b[0m\u001b[1;33m,\u001b[0m \u001b[0mphi2_0\u001b[0m\u001b[1;33m,\u001b[0m \u001b[0mphi2_dot_0\u001b[0m\u001b[1;33m)\u001b[0m\u001b[1;33m\u001b[0m\u001b[1;33m\u001b[0m\u001b[0m\n\u001b[0m\u001b[0;32m     16\u001b[0m \u001b[1;33m\u001b[0m\u001b[0m\n\u001b[0;32m     17\u001b[0m \u001b[1;31m# Making our figures\u001b[0m\u001b[1;33m\u001b[0m\u001b[1;33m\u001b[0m\u001b[0m\n",
      "\u001b[1;32m~\\AppData\\Local\\Temp\\ipykernel_12612\\2315135746.py\u001b[0m in \u001b[0;36msolve_ode\u001b[1;34m(self, t_pts, phi1_0, phi1_dot_0, phi2_0, phi2_dot_0, abserr, relerr)\u001b[0m\n\u001b[0;32m     65\u001b[0m         \"\"\"\n\u001b[0;32m     66\u001b[0m         \u001b[0my\u001b[0m \u001b[1;33m=\u001b[0m \u001b[1;33m[\u001b[0m\u001b[0mphi1_0\u001b[0m\u001b[1;33m,\u001b[0m \u001b[0mphi1_dot_0\u001b[0m\u001b[1;33m,\u001b[0m \u001b[0mphi2_0\u001b[0m\u001b[1;33m,\u001b[0m \u001b[0mphi2_dot_0\u001b[0m\u001b[1;33m]\u001b[0m\u001b[1;33m\u001b[0m\u001b[1;33m\u001b[0m\u001b[0m\n\u001b[1;32m---> 67\u001b[1;33m         solution = solve_ivp(self.dy_dt, (t_pts[0], t_pts[-1]), \n\u001b[0m\u001b[0;32m     68\u001b[0m                              y, t_eval=t_pts, atol=abserr, rtol=relerr)\n\u001b[0;32m     69\u001b[0m         \u001b[0mphi1\u001b[0m\u001b[1;33m,\u001b[0m \u001b[0mphi1_dot\u001b[0m\u001b[1;33m,\u001b[0m \u001b[0mphi2\u001b[0m\u001b[1;33m,\u001b[0m \u001b[0mphi2_dot\u001b[0m \u001b[1;33m=\u001b[0m \u001b[0msolution\u001b[0m\u001b[1;33m.\u001b[0m\u001b[0my\u001b[0m\u001b[1;33m\u001b[0m\u001b[1;33m\u001b[0m\u001b[0m\n",
      "\u001b[1;32mE:\\ana\\lib\\site-packages\\scipy\\integrate\\_ivp\\ivp.py\u001b[0m in \u001b[0;36msolve_ivp\u001b[1;34m(fun, t_span, y0, method, t_eval, dense_output, events, vectorized, args, **options)\u001b[0m\n\u001b[0;32m    587\u001b[0m     \u001b[0mstatus\u001b[0m \u001b[1;33m=\u001b[0m \u001b[1;32mNone\u001b[0m\u001b[1;33m\u001b[0m\u001b[1;33m\u001b[0m\u001b[0m\n\u001b[0;32m    588\u001b[0m     \u001b[1;32mwhile\u001b[0m \u001b[0mstatus\u001b[0m \u001b[1;32mis\u001b[0m \u001b[1;32mNone\u001b[0m\u001b[1;33m:\u001b[0m\u001b[1;33m\u001b[0m\u001b[1;33m\u001b[0m\u001b[0m\n\u001b[1;32m--> 589\u001b[1;33m         \u001b[0mmessage\u001b[0m \u001b[1;33m=\u001b[0m \u001b[0msolver\u001b[0m\u001b[1;33m.\u001b[0m\u001b[0mstep\u001b[0m\u001b[1;33m(\u001b[0m\u001b[1;33m)\u001b[0m\u001b[1;33m\u001b[0m\u001b[1;33m\u001b[0m\u001b[0m\n\u001b[0m\u001b[0;32m    590\u001b[0m \u001b[1;33m\u001b[0m\u001b[0m\n\u001b[0;32m    591\u001b[0m         \u001b[1;32mif\u001b[0m \u001b[0msolver\u001b[0m\u001b[1;33m.\u001b[0m\u001b[0mstatus\u001b[0m \u001b[1;33m==\u001b[0m \u001b[1;34m'finished'\u001b[0m\u001b[1;33m:\u001b[0m\u001b[1;33m\u001b[0m\u001b[1;33m\u001b[0m\u001b[0m\n",
      "\u001b[1;32mE:\\ana\\lib\\site-packages\\scipy\\integrate\\_ivp\\base.py\u001b[0m in \u001b[0;36mstep\u001b[1;34m(self)\u001b[0m\n\u001b[0;32m    179\u001b[0m         \u001b[1;32melse\u001b[0m\u001b[1;33m:\u001b[0m\u001b[1;33m\u001b[0m\u001b[1;33m\u001b[0m\u001b[0m\n\u001b[0;32m    180\u001b[0m             \u001b[0mt\u001b[0m \u001b[1;33m=\u001b[0m \u001b[0mself\u001b[0m\u001b[1;33m.\u001b[0m\u001b[0mt\u001b[0m\u001b[1;33m\u001b[0m\u001b[1;33m\u001b[0m\u001b[0m\n\u001b[1;32m--> 181\u001b[1;33m             \u001b[0msuccess\u001b[0m\u001b[1;33m,\u001b[0m \u001b[0mmessage\u001b[0m \u001b[1;33m=\u001b[0m \u001b[0mself\u001b[0m\u001b[1;33m.\u001b[0m\u001b[0m_step_impl\u001b[0m\u001b[1;33m(\u001b[0m\u001b[1;33m)\u001b[0m\u001b[1;33m\u001b[0m\u001b[1;33m\u001b[0m\u001b[0m\n\u001b[0m\u001b[0;32m    182\u001b[0m \u001b[1;33m\u001b[0m\u001b[0m\n\u001b[0;32m    183\u001b[0m             \u001b[1;32mif\u001b[0m \u001b[1;32mnot\u001b[0m \u001b[0msuccess\u001b[0m\u001b[1;33m:\u001b[0m\u001b[1;33m\u001b[0m\u001b[1;33m\u001b[0m\u001b[0m\n",
      "\u001b[1;32mE:\\ana\\lib\\site-packages\\scipy\\integrate\\_ivp\\rk.py\u001b[0m in \u001b[0;36m_step_impl\u001b[1;34m(self)\u001b[0m\n\u001b[0;32m    142\u001b[0m             \u001b[0mh_abs\u001b[0m \u001b[1;33m=\u001b[0m \u001b[0mnp\u001b[0m\u001b[1;33m.\u001b[0m\u001b[0mabs\u001b[0m\u001b[1;33m(\u001b[0m\u001b[0mh\u001b[0m\u001b[1;33m)\u001b[0m\u001b[1;33m\u001b[0m\u001b[1;33m\u001b[0m\u001b[0m\n\u001b[0;32m    143\u001b[0m \u001b[1;33m\u001b[0m\u001b[0m\n\u001b[1;32m--> 144\u001b[1;33m             y_new, f_new = rk_step(self.fun, t, y, self.f, h, self.A,\n\u001b[0m\u001b[0;32m    145\u001b[0m                                    self.B, self.C, self.K)\n\u001b[0;32m    146\u001b[0m             \u001b[0mscale\u001b[0m \u001b[1;33m=\u001b[0m \u001b[0matol\u001b[0m \u001b[1;33m+\u001b[0m \u001b[0mnp\u001b[0m\u001b[1;33m.\u001b[0m\u001b[0mmaximum\u001b[0m\u001b[1;33m(\u001b[0m\u001b[0mnp\u001b[0m\u001b[1;33m.\u001b[0m\u001b[0mabs\u001b[0m\u001b[1;33m(\u001b[0m\u001b[0my\u001b[0m\u001b[1;33m)\u001b[0m\u001b[1;33m,\u001b[0m \u001b[0mnp\u001b[0m\u001b[1;33m.\u001b[0m\u001b[0mabs\u001b[0m\u001b[1;33m(\u001b[0m\u001b[0my_new\u001b[0m\u001b[1;33m)\u001b[0m\u001b[1;33m)\u001b[0m \u001b[1;33m*\u001b[0m \u001b[0mrtol\u001b[0m\u001b[1;33m\u001b[0m\u001b[1;33m\u001b[0m\u001b[0m\n",
      "\u001b[1;32mE:\\ana\\lib\\site-packages\\scipy\\integrate\\_ivp\\rk.py\u001b[0m in \u001b[0;36mrk_step\u001b[1;34m(fun, t, y, f, h, A, B, C, K)\u001b[0m\n\u001b[0;32m     61\u001b[0m     \u001b[0mK\u001b[0m\u001b[1;33m[\u001b[0m\u001b[1;36m0\u001b[0m\u001b[1;33m]\u001b[0m \u001b[1;33m=\u001b[0m \u001b[0mf\u001b[0m\u001b[1;33m\u001b[0m\u001b[1;33m\u001b[0m\u001b[0m\n\u001b[0;32m     62\u001b[0m     \u001b[1;32mfor\u001b[0m \u001b[0ms\u001b[0m\u001b[1;33m,\u001b[0m \u001b[1;33m(\u001b[0m\u001b[0ma\u001b[0m\u001b[1;33m,\u001b[0m \u001b[0mc\u001b[0m\u001b[1;33m)\u001b[0m \u001b[1;32min\u001b[0m \u001b[0menumerate\u001b[0m\u001b[1;33m(\u001b[0m\u001b[0mzip\u001b[0m\u001b[1;33m(\u001b[0m\u001b[0mA\u001b[0m\u001b[1;33m[\u001b[0m\u001b[1;36m1\u001b[0m\u001b[1;33m:\u001b[0m\u001b[1;33m]\u001b[0m\u001b[1;33m,\u001b[0m \u001b[0mC\u001b[0m\u001b[1;33m[\u001b[0m\u001b[1;36m1\u001b[0m\u001b[1;33m:\u001b[0m\u001b[1;33m]\u001b[0m\u001b[1;33m)\u001b[0m\u001b[1;33m,\u001b[0m \u001b[0mstart\u001b[0m\u001b[1;33m=\u001b[0m\u001b[1;36m1\u001b[0m\u001b[1;33m)\u001b[0m\u001b[1;33m:\u001b[0m\u001b[1;33m\u001b[0m\u001b[1;33m\u001b[0m\u001b[0m\n\u001b[1;32m---> 63\u001b[1;33m         \u001b[0mdy\u001b[0m \u001b[1;33m=\u001b[0m \u001b[0mnp\u001b[0m\u001b[1;33m.\u001b[0m\u001b[0mdot\u001b[0m\u001b[1;33m(\u001b[0m\u001b[0mK\u001b[0m\u001b[1;33m[\u001b[0m\u001b[1;33m:\u001b[0m\u001b[0ms\u001b[0m\u001b[1;33m]\u001b[0m\u001b[1;33m.\u001b[0m\u001b[0mT\u001b[0m\u001b[1;33m,\u001b[0m \u001b[0ma\u001b[0m\u001b[1;33m[\u001b[0m\u001b[1;33m:\u001b[0m\u001b[0ms\u001b[0m\u001b[1;33m]\u001b[0m\u001b[1;33m)\u001b[0m \u001b[1;33m*\u001b[0m \u001b[0mh\u001b[0m\u001b[1;33m\u001b[0m\u001b[1;33m\u001b[0m\u001b[0m\n\u001b[0m\u001b[0;32m     64\u001b[0m         \u001b[0mK\u001b[0m\u001b[1;33m[\u001b[0m\u001b[0ms\u001b[0m\u001b[1;33m]\u001b[0m \u001b[1;33m=\u001b[0m \u001b[0mfun\u001b[0m\u001b[1;33m(\u001b[0m\u001b[0mt\u001b[0m \u001b[1;33m+\u001b[0m \u001b[0mc\u001b[0m \u001b[1;33m*\u001b[0m \u001b[0mh\u001b[0m\u001b[1;33m,\u001b[0m \u001b[0my\u001b[0m \u001b[1;33m+\u001b[0m \u001b[0mdy\u001b[0m\u001b[1;33m)\u001b[0m\u001b[1;33m\u001b[0m\u001b[1;33m\u001b[0m\u001b[0m\n\u001b[0;32m     65\u001b[0m \u001b[1;33m\u001b[0m\u001b[0m\n",
      "\u001b[1;32m<__array_function__ internals>\u001b[0m in \u001b[0;36mdot\u001b[1;34m(*args, **kwargs)\u001b[0m\n",
      "\u001b[1;31mKeyboardInterrupt\u001b[0m: "
     ]
    }
   ],
   "source": [
    "# Initialize our pendulums\n",
    "p1 = DoublePendulum(g=1,L1=1,L2=1,m1=1,m2=1)\n",
    "phi1_0 = np.pi/2\n",
    "phi1_dot_0 = 0\n",
    "phi2_0 = 0\n",
    "phi2_dot_0 = 0\n",
    "\n",
    "t_start = 0.\n",
    "t_end = 50.\n",
    "delta_t = 0.01\n",
    "\n",
    "t_pts = np.arange(t_start, t_end+delta_t, delta_t)\n",
    "\n",
    "# Solve for the motion of our pendulums\n",
    "phi1, phi1_dot, phi2, phi2_dot = p1.solve_ode(t_pts,phi1_0, phi1_dot_0, phi2_0, phi2_dot_0)\n",
    "\n",
    "# Making our figures\n",
    "phi_vs_time_labels = (r'$t$', r'$\\phi(t)$')\n",
    "\n",
    "fig = plt.figure(figsize=(15,5))\n",
    "overall_title = 'Simple Double pendulum from Lagrangian:  ' + \\\n",
    "                rf'  $\\phi_1 = {phi1:.2f},$' + \\\n",
    "                rf' $\\dot\\phi_1 = {phi1_dot:.2f}$' + \\\n",
    "                rf'  $\\phi_2 = {phi2:.2f},$' + \\\n",
    "                rf' $\\dot\\phi_2 = {phi2_dot:.2f}$' + \\\n",
    "                '\\n'     # \\n means a new line (adds some space here)\n",
    "fig.suptitle(overall_title, va='baseline')\n",
    "    \n",
    "# first plot: phi1 plot \n",
    "ax_a = fig.add_subplot(1,3,1)                  \n",
    "\n",
    "start, stop = start_stop_indices(t_pts, t_start, t_end)    \n",
    "plot_y_vs_x(t_pts[start : stop], phi1[start : stop], \n",
    "            axis_labels=phi_vs_time_labels, \n",
    "            color='blue',\n",
    "            label=None, \n",
    "            title=r'$\\phi(t)$', \n",
    "            ax=ax_a)  "
   ]
  },
  {
   "cell_type": "code",
   "execution_count": null,
   "id": "65f00f4f",
   "metadata": {},
   "outputs": [],
   "source": []
  }
 ],
 "metadata": {
  "kernelspec": {
   "display_name": "Python 3 (ipykernel)",
   "language": "python",
   "name": "python3"
  },
  "language_info": {
   "codemirror_mode": {
    "name": "ipython",
    "version": 3
   },
   "file_extension": ".py",
   "mimetype": "text/x-python",
   "name": "python",
   "nbconvert_exporter": "python",
   "pygments_lexer": "ipython3",
   "version": "3.9.13"
  }
 },
 "nbformat": 4,
 "nbformat_minor": 5
}
